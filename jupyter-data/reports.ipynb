{
 "cells": [
  {
   "cell_type": "code",
   "execution_count": null,
   "id": "6d3bd350-3a1c-41af-9f82-92a4f185f9e4",
   "metadata": {},
   "outputs": [],
   "source": [
    "# Amazon Review Analysis Pipeline using NLP and Spark\n",
    "# Ravi Patel 12291812\n",
    "# Lyric Randle 16253122\n",
    "# Michelle Lu 16127324\n",
    "# Mason Allaman 16365811\n",
    "\n",
    "# Abstract:\n",
    "# Text data around product reviews is abundant with the growth of Amazon. Gathering actionable information from these reviews \n",
    "# can be key to adjust product decisions. This can include specific phrases that can be associated with negative and positive \n",
    "# reviews to training a classifier specifically around sentiment in the context of an industry or product segment. The value \n",
    "# generated is vast, but there can be difficulties to processing the amount of data. This experiment is going to be around processing \n",
    "# the 2013 Amazing reviews dataset using Spark and SparkNLP within a Docker Compose environment. "
   ]
  },
  {
   "cell_type": "code",
   "execution_count": null,
   "id": "f9bca184-b64c-4480-b24d-c0c816f7c6a2",
   "metadata": {},
   "outputs": [],
   "source": [
    "import mysql.connector\n",
    "import pandas as pd\n",
    "import seaborn as sns\n",
    "import json\n",
    "\n",
    "con = mysql.connector.connect(\n",
    "    user=\"root\", password=\"root\", host=\"mysql-server\", database=\"product_analysis\"\n",
    ")\n",
    "\n",
    "curs = con.cursor(dictionary=True)"
   ]
  },
  {
   "cell_type": "code",
   "execution_count": null,
   "id": "3eb0855b-3178-480d-b268-4e16cdf0ff0f",
   "metadata": {},
   "outputs": [],
   "source": [
    "curs.execute(\"show tables\")\n",
    "curs.fetchall()"
   ]
  },
  {
   "cell_type": "code",
   "execution_count": null,
   "id": "bacbb0b8-98aa-4273-83ff-36d3d206fb00",
   "metadata": {},
   "outputs": [],
   "source": [
    "# Total Reviews ingested:\n",
    "curs.execute(\"select count(*) as total_reviews from reviews\")\n",
    "curs.fetchall()[0]['total_reviews']"
   ]
  },
  {
   "cell_type": "code",
   "execution_count": null,
   "id": "41673914-9975-4637-9ca0-c224c3f55a31",
   "metadata": {},
   "outputs": [],
   "source": [
    "# Total Products ingested:\n",
    "curs.execute(\"select count(*) as total_products from products\")\n",
    "curs.fetchall()[0]['total_products']"
   ]
  },
  {
   "cell_type": "code",
   "execution_count": null,
   "id": "a653b04a-6873-420f-9f7b-d40c504dcd85",
   "metadata": {},
   "outputs": [],
   "source": [
    "curs.execute(\"select * from processed_review inner join reviews on processed_review.review_id = reviews.id limit 5\")\n",
    "curs.fetchall()"
   ]
  },
  {
   "cell_type": "code",
   "execution_count": null,
   "id": "00c7b1a5-eb86-490f-a9e8-87a3fb7de443",
   "metadata": {},
   "outputs": [],
   "source": [
    "curs.execute(\"select p.title, p.category from products p  inner join reviews r on p.id = r.product_id where p.category != 'Books' limit 10\")\n",
    "curs.fetchall()"
   ]
  },
  {
   "cell_type": "code",
   "execution_count": null,
   "id": "0755ca06-c101-4c64-a134-04330b86b6a2",
   "metadata": {},
   "outputs": [],
   "source": []
  },
  {
   "cell_type": "code",
   "execution_count": null,
   "id": "9a129f3c-9807-435c-80ec-84e65b3b9c2c",
   "metadata": {},
   "outputs": [],
   "source": [
    "curs.execute(\"\"\"SELECT products.title, COUNT(reviews.id) AS num_reviews\n",
    "FROM products\n",
    "LEFT JOIN reviews ON products.id = reviews.product_id\n",
    "GROUP BY products.id order by num_reviews desc limit 5\"\"\")\n",
    "top_reviewed_products = pd.DataFrame(curs.fetchall())\n",
    "top_reviewed_products.plot(kind='bar',x='title')\n",
    "top_reviewed_products"
   ]
  },
  {
   "cell_type": "code",
   "execution_count": null,
   "id": "1e7f70bd-e24e-4694-934d-65184d8e04e5",
   "metadata": {},
   "outputs": [],
   "source": [
    "curs.execute(\"\"\"SELECT products.category, COUNT(id) AS category_counts\n",
    "FROM products\n",
    "GROUP BY products.category\"\"\")\n",
    "category_counts = curs.fetchall()\n"
   ]
  },
  {
   "cell_type": "code",
   "execution_count": null,
   "id": "fca4860b-73ed-4eba-95bb-f30298be7eef",
   "metadata": {},
   "outputs": [],
   "source": [
    "cat_df = pd.DataFrame(category_counts)\n",
    "cat_df\n",
    "cat_df.plot(kind='bar',x='category')"
   ]
  },
  {
   "cell_type": "code",
   "execution_count": null,
   "id": "e71b3a1e-9ef5-4e64-94e3-8e04ae1dd5f9",
   "metadata": {},
   "outputs": [],
   "source": []
  },
  {
   "cell_type": "code",
   "execution_count": null,
   "id": "e39f88d2-20a0-49a2-953b-a3d97bd5a5b3",
   "metadata": {},
   "outputs": [],
   "source": [
    "curs.execute('select count(*) from products where processed = 1')\n",
    "curs.fetchall()"
   ]
  },
  {
   "cell_type": "code",
   "execution_count": null,
   "id": "c19429b6-de50-403b-872c-f06d76f2f84a",
   "metadata": {},
   "outputs": [],
   "source": [
    "for category in category_counts:\n",
    "    curs.execute('select rating from reviews inner join products on products.id = reviews.product_id where products.category=%s',[category['category']])\n",
    "    cat_ratings = curs.fetchall()            \n",
    "    cat_rating_df = pd.DataFrame(cat_ratings)\n",
    "    cat_rating_df.columns = [f'{category[\"category\"]}_Ratings']\n",
    "    cat_rating_df.hist()"
   ]
  },
  {
   "cell_type": "code",
   "execution_count": null,
   "id": "c0c754b9-7936-46a3-88c4-496338506f6c",
   "metadata": {},
   "outputs": [],
   "source": [
    "for category in category_counts:\n",
    "    curs.execute('select helpfulness from reviews inner join products on products.id = reviews.product_id where products.category=%s',[category['category']])\n",
    "    cat_helpful = curs.fetchall()            \n",
    "    cat_helpful_df = pd.DataFrame(cat_helpful)\n",
    "    cat_helpful_df.columns = [f'{category[\"category\"]}_Helpful']\n",
    "    cat_helpful_df.hist()"
   ]
  },
  {
   "cell_type": "code",
   "execution_count": null,
   "id": "2e1e7c05-2f9d-478f-8443-671ee48e2eaa",
   "metadata": {},
   "outputs": [],
   "source": [
    "curs.execute('select * from products inner join reviews on reviews.product_id=products.id inner join processed_review on processed_review.review_id = reviews.id where reviews.processed = 1 and reviews.helpfulness > 0.5 and reviews.rating < 2.0 limit 10')\n",
    "kp = curs.fetchall()\n",
    "kp"
   ]
  },
  {
   "cell_type": "code",
   "execution_count": null,
   "id": "4feacfdf-1e2c-4a8b-84ed-451138343c50",
   "metadata": {},
   "outputs": [],
   "source": []
  },
  {
   "cell_type": "code",
   "execution_count": null,
   "id": "8a38e0b2-aa50-4a68-b9b0-ad4029748f5d",
   "metadata": {},
   "outputs": [],
   "source": [
    "curs.execute('select * from agg_product_review inner join products on products.id=agg_product_review.product_id where products.category!=\"Books\" limit 10')\n",
    "topics = curs.fetchall()\n",
    "for t in topics:\n",
    "    t['metric'] = json.loads(t['metric'])\n",
    "most_topics = [t for t in topics if len(t['metric']) > 5]\n",
    "most_topics"
   ]
  },
  {
   "cell_type": "code",
   "execution_count": null,
   "id": "ef7232f9-b2ec-4b25-826c-04324e9f2c32",
   "metadata": {},
   "outputs": [],
   "source": []
  }
 ],
 "metadata": {
  "kernelspec": {
   "display_name": "Python 3 (ipykernel)",
   "language": "python",
   "name": "python3"
  },
  "language_info": {
   "codemirror_mode": {
    "name": "ipython",
    "version": 3
   },
   "file_extension": ".py",
   "mimetype": "text/x-python",
   "name": "python",
   "nbconvert_exporter": "python",
   "pygments_lexer": "ipython3",
   "version": "3.11.6"
  }
 },
 "nbformat": 4,
 "nbformat_minor": 5
}
